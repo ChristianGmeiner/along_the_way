{
    "cells": [
        {
            "metadata": {
                "collapsed": true
            },
            "cell_type": "markdown",
            "source": "# My Jupyter Notebook on IBM Watson Studio"
        },
        {
            "metadata": {},
            "cell_type": "markdown",
            "source": "**Christian Gmeiner** <br>Currently working in radiology - but now looking into data science, ML and analysis."
        },
        {
            "metadata": {},
            "cell_type": "markdown",
            "source": "*It startet with a simple question, of how much increase in CT and MRI scans we experienced over the last 10 years - at first with a simple spreadsheet with one value for each month, by the time i gathered timestamps of 250.000 examinations and started to analyze them, i knew i needed a to change my career.*"
        },
        {
            "metadata": {},
            "cell_type": "markdown",
            "source": "### The `code` below will dynamically show today\u00b4s motivation level :-)"
        },
        {
            "metadata": {},
            "cell_type": "code",
            "source": "import random\n\nx = random.randint(5,10) # it starts in de middle because i don\u00b4t accept low motivation\n\nprint(\"Today\u00b4s motivation level is \" + str(x) + \" out of 10\")",
            "execution_count": 3,
            "outputs": [
                {
                    "output_type": "stream",
                    "text": "Today\u00b4s motivation level is 7 out of 10\n",
                    "name": "stdout"
                }
            ]
        },
        {
            "metadata": {},
            "cell_type": "markdown",
            "source": "> There is a lot left to learn after this course\n\n***\n\n+ Statistics / Math\n+ Computer Science\n+ Linux / Docker \n+ ```Julia[^1]```\n+ ~~Microsoft Access~~ \n\n***\n\n... so back to learning - [Coursera Homepage](https://www.coursera.org)\n\n| Syntax | Description |\n| -------| ----------- |\n| Header | Title |\n| Paragraph | Text |\n\n\n[^1]: A very cool new programming language\n"
        },
        {
            "metadata": {},
            "cell_type": "code",
            "source": "",
            "execution_count": null,
            "outputs": []
        }
    ],
    "metadata": {
        "kernelspec": {
            "name": "python3",
            "display_name": "Python 3.9",
            "language": "python"
        },
        "language_info": {
            "name": "python",
            "version": "3.9.13",
            "mimetype": "text/x-python",
            "codemirror_mode": {
                "name": "ipython",
                "version": 3
            },
            "pygments_lexer": "ipython3",
            "nbconvert_exporter": "python",
            "file_extension": ".py"
        }
    },
    "nbformat": 4,
    "nbformat_minor": 1
}